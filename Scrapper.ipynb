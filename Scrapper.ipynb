{
 "cells": [
  {
   "cell_type": "code",
   "execution_count": 1,
   "metadata": {},
   "outputs": [],
   "source": [
    "import requests\n",
    "from bs4 import BeautifulSoup\n",
    "import pandas as pd\n",
    "import numpy as np"
   ]
  },
  {
   "cell_type": "code",
   "execution_count": 97,
   "metadata": {},
   "outputs": [],
   "source": [
    "response = requests.get('https://www.bls.gov/opub/ted/2021/job-gains-and-losses-by-state-from-march-2019-to-march-2021.htm')\n",
    "html_text = response.text\n",
    "data = BeautifulSoup(html_text, 'html.parser')\n",
    "\n",
    "def scrape_table(i):\n",
    "    tables = data.find_all(class_ = 'article-table')\n",
    "    table_data = []\n",
    "    \n",
    "    for row in tables[i].find_all('tr'):\n",
    "        row_list = []\n",
    "        for value in row.stripped_strings:\n",
    "            row_list.append(value)\n",
    "        table_data.append(row_list)\n",
    "        \n",
    "    df = pd.DataFrame(data = table_data[1:], \n",
    "                      columns = table_data[0])\n",
    "    df.set_index('State', inplace = True)\n",
    "    df.dropna(how='all', inplace=True)\n",
    "    return df\n",
    "\n",
    "scrape_table(0).to_csv(\"./Data/BLS state job gains and losses/Gross_job_gains.csv\")\n",
    "scrape_table(1).to_csv(\"./Data/BLS state job gains and losses/Gross_job_losses.csv\")"
   ]
  },
  {
   "cell_type": "markdown",
   "metadata": {},
   "source": [
    "### Extract data for unemployment rates for States in the USA from bls.gov website"
   ]
  },
  {
   "cell_type": "code",
   "execution_count": 98,
   "metadata": {},
   "outputs": [],
   "source": [
    "def scrape_yearly_rate(year_id):\n",
    "    response = requests.get('https://www.bls.gov/lau/'+ year_id + '.htm')\n",
    "    html_text = response.text\n",
    "    data = BeautifulSoup(html_text, 'html.parser')\n",
    "    table = data.find(id = year_id)\n",
    "\n",
    "    data = []\n",
    "    for row in table.find_all('tr'):\n",
    "        row_list = []\n",
    "        for value in row.stripped_strings:\n",
    "            row_list.append(value)\n",
    "        data.append(row_list)\n",
    "    col1 = '20' + year_id[6:] + ' Rate'\n",
    "    col2 = '20' + year_id[6:] + ' Rank'\n",
    "    df = pd.DataFrame(data = data[3:-1],\n",
    "                     columns=['State', col1, col2])\n",
    "    df.set_index('State', inplace = True)\n",
    "    return df"
   ]
  },
  {
   "cell_type": "code",
   "execution_count": 99,
   "metadata": {},
   "outputs": [],
   "source": [
    "scrape_yearly_rate('lastrk20').to_csv(\"./Data/Unemployment Rates for States/year_2020.csv\")\n",
    "scrape_yearly_rate('lastrk19').to_csv(\"./Data/Unemployment Rates for States/year_2019.csv\")\n",
    "scrape_yearly_rate('lastrk18').to_csv(\"./Data/Unemployment Rates for States/year_2018.csv\")\n",
    "scrape_yearly_rate('lastrk17').to_csv(\"./Data/Unemployment Rates for States/year_2017.csv\")\n",
    "scrape_yearly_rate('lastrk16').to_csv(\"./Data/Unemployment Rates for States/year_2016.csv\")"
   ]
  },
  {
   "cell_type": "code",
   "execution_count": null,
   "metadata": {},
   "outputs": [],
   "source": []
  }
 ],
 "metadata": {
  "kernelspec": {
   "display_name": "Python 3",
   "language": "python",
   "name": "python3"
  },
  "language_info": {
   "codemirror_mode": {
    "name": "ipython",
    "version": 3
   },
   "file_extension": ".py",
   "mimetype": "text/x-python",
   "name": "python",
   "nbconvert_exporter": "python",
   "pygments_lexer": "ipython3",
   "version": "3.8.8"
  }
 },
 "nbformat": 4,
 "nbformat_minor": 4
}
