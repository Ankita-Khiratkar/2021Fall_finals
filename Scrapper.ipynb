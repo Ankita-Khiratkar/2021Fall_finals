{
 "cells": [
  {
   "cell_type": "code",
   "execution_count": 5,
   "metadata": {},
   "outputs": [],
   "source": [
    "import requests\n",
    "from bs4 import BeautifulSoup\n",
    "import pandas as pd\n",
    "import numpy as np"
   ]
  },
  {
   "cell_type": "code",
   "execution_count": 6,
   "metadata": {},
   "outputs": [],
   "source": [
    "response = requests.get('https://www.bls.gov/opub/ted/2021/job-gains-and-losses-by-state-from-march-2019-to-march-2021.htm')\n",
    "html_text = response.text\n",
    "data = BeautifulSoup(html_text, 'html.parser')\n",
    "\n",
    "def scrape_table(i):\n",
    "    tables = data.find_all(class_ = 'article-table')\n",
    "    table_data = []\n",
    "    \n",
    "    for row in tables[i].find_all('tr'):\n",
    "        row_list = []\n",
    "        for value in row.stripped_strings:\n",
    "            row_list.append(value)\n",
    "        table_data.append(row_list)\n",
    "        \n",
    "    df = pd.DataFrame(data = table_data[1:], \n",
    "                      columns = table_data[0])\n",
    "    df.set_index('State', inplace = True)\n",
    "    df.dropna(how='all', inplace=True)\n",
    "    return df\n",
    "\n",
    "scrape_table(0).to_csv(\"./BLS state job gains and losses/Gross_job_gains.csv\")\n",
    "scrape_table(1).to_csv(\"./BLS state job gains and losses/Gross_job_losses.csv\")"
   ]
  },
  {
   "cell_type": "code",
   "execution_count": null,
   "metadata": {},
   "outputs": [],
   "source": []
  },
  {
   "cell_type": "code",
   "execution_count": null,
   "metadata": {},
   "outputs": [],
   "source": []
  },
  {
   "cell_type": "code",
   "execution_count": null,
   "metadata": {},
   "outputs": [],
   "source": []
  }
 ],
 "metadata": {
  "kernelspec": {
   "display_name": "Python 3",
   "language": "python",
   "name": "python3"
  },
  "language_info": {
   "codemirror_mode": {
    "name": "ipython",
    "version": 3
   },
   "file_extension": ".py",
   "mimetype": "text/x-python",
   "name": "python",
   "nbconvert_exporter": "python",
   "pygments_lexer": "ipython3",
   "version": "3.8.3"
  }
 },
 "nbformat": 4,
 "nbformat_minor": 4
}
