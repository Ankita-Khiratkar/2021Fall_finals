{
 "cells": [
  {
   "cell_type": "code",
   "execution_count": 2,
   "metadata": {},
   "outputs": [],
   "source": [
    "import requests\n",
    "from bs4 import BeautifulSoup\n",
    "import pandas as pd\n",
    "import numpy as np"
   ]
  },
  {
   "cell_type": "code",
   "execution_count": 97,
   "metadata": {},
   "outputs": [],
   "source": [
    "response = requests.get('https://www.bls.gov/opub/ted/2021/job-gains-and-losses-by-state-from-march-2019-to-march-2021.htm')\n",
    "html_text = response.text\n",
    "data = BeautifulSoup(html_text, 'html.parser')\n",
    "\n",
    "def scrape_table(i):\n",
    "    tables = data.find_all(class_ = 'article-table')\n",
    "    table_data = []\n",
    "    \n",
    "    for row in tables[i].find_all('tr'):\n",
    "        row_list = []\n",
    "        for value in row.stripped_strings:\n",
    "            row_list.append(value)\n",
    "        table_data.append(row_list)\n",
    "        \n",
    "    df = pd.DataFrame(data = table_data[1:], \n",
    "                      columns = table_data[0])\n",
    "    df.set_index('State', inplace = True)\n",
    "    df.dropna(how='all', inplace=True)\n",
    "    return df\n",
    "\n",
    "scrape_table(0).to_csv(\"./Data/BLS state job gains and losses/Gross_job_gains.csv\")\n",
    "scrape_table(1).to_csv(\"./Data/BLS state job gains and losses/Gross_job_losses.csv\")"
   ]
  },
  {
   "cell_type": "markdown",
   "metadata": {},
   "source": [
    "### Extract data for unemployment rates for States in the USA from bls.gov website"
   ]
  },
  {
   "cell_type": "code",
   "execution_count": 14,
   "metadata": {},
   "outputs": [],
   "source": [
    "def scrape_yearly_rate(year_id):\n",
    "    response = requests.get('https://www.bls.gov/lau/'+ year_id + '.htm')\n",
    "    html_text = response.text\n",
    "    data = BeautifulSoup(html_text, 'html.parser')\n",
    "    table = data.find(id = year_id)\n",
    "\n",
    "    data = []\n",
    "    for row in table.find_all('tr'):\n",
    "        row_list = []\n",
    "        for value in row.stripped_strings:\n",
    "            row_list.append(value)\n",
    "        row_list.append('20' + year_id[6:])\n",
    "        data.append(row_list)\n",
    "    df = pd.DataFrame(data = data[3:-1],\n",
    "                      columns=['State', 'Rate', 'Rank', 'Year'])\n",
    "    return df"
   ]
  },
  {
   "cell_type": "code",
   "execution_count": 15,
   "metadata": {},
   "outputs": [],
   "source": [
    "id_list = ['lastrk20', 'lastrk19', 'lastrk18', 'lastrk17', 'lastrk16']\n",
    "for id in id_list:\n",
    "    scrape_yearly_rate(id).to_csv(\"./Data/Unemployment Rates for States/year_20\" + id[6:] + \".csv\")"
   ]
  },
  {
   "cell_type": "code",
   "execution_count": 3,
   "metadata": {},
   "outputs": [],
   "source": [
    "response = requests.get('https://www.bls.gov/charts/state-employment-and-unemployment/state-unemployment-rates-animated.htm')\n",
    "html_text = response.text\n",
    "data = BeautifulSoup(html_text, 'html.parser')\n",
    "\n",
    "table = data.find(id = 'lau_rc_unmapanim')\n",
    "table_data = []\n",
    "for row in table.find_all('tr'):\n",
    "    row_list = []\n",
    "    for value in row.stripped_strings:\n",
    "        row_list.append(value)\n",
    "    table_data.append(row_list)\n",
    "df = pd.DataFrame(data = table_data[1:], \n",
    "                      columns = table_data[0])\n",
    "df.set_index('State', inplace=True)\n",
    "df.to_csv('./Data/Unemployment Rates for States/state_unemployment_11_21.csv')"
   ]
  },
  {
   "cell_type": "code",
   "execution_count": null,
   "metadata": {},
   "outputs": [],
   "source": []
  }
 ],
 "metadata": {
  "kernelspec": {
   "display_name": "Python 3",
   "language": "python",
   "name": "python3"
  },
  "language_info": {
   "codemirror_mode": {
    "name": "ipython",
    "version": 3
   },
   "file_extension": ".py",
   "mimetype": "text/x-python",
   "name": "python",
   "nbconvert_exporter": "python",
   "pygments_lexer": "ipython3",
   "version": "3.8.3"
  }
 },
 "nbformat": 4,
 "nbformat_minor": 4
}
